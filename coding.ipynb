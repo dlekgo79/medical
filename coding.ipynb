{
 "cells": [
  {
   "cell_type": "code",
   "execution_count": 14,
   "id": "1fce13fb",
   "metadata": {},
   "outputs": [],
   "source": [
    "#1 거스름돈\n",
    "\n"
   ]
  },
  {
   "cell_type": "code",
   "execution_count": 17,
   "id": "00dc3194",
   "metadata": {},
   "outputs": [
    {
     "name": "stdout",
     "output_type": "stream",
     "text": [
      "5 8 3\n",
      "2 4 5 4 6\n"
     ]
    }
   ],
   "source": [
    "#2 큰수의 법칙\n",
    "n,m,k = map(int,input().split())\n",
    "n1 = list(map(int,input().split()))\n"
   ]
  },
  {
   "cell_type": "code",
   "execution_count": 22,
   "id": "369fd8a7",
   "metadata": {},
   "outputs": [],
   "source": [
    "i = 0\n",
    "while(True):\n",
    "    if m - max(n1)*i > 0:\n",
    "        i = i + 1\n",
    "    else:\n",
    "        break\n",
    "n2 = m - (k*i)\n",
    "re = max(n1)*k*2 + n2*(n1[-2])\n",
    "print(re)"
   ]
  },
  {
   "cell_type": "code",
   "execution_count": 8,
   "id": "a1b24a54",
   "metadata": {},
   "outputs": [
    {
     "name": "stdout",
     "output_type": "stream",
     "text": [
      "3 3 \n",
      "3 1 2\n",
      "4 1 4\n",
      "2 2 2\n",
      "2\n"
     ]
    }
   ],
   "source": [
    "#숫자 카드 게임\n",
    "n,m = map(int,input().split())\n",
    "n1 = []\n",
    "for i in range(n):\n",
    "        n1.append(list(map(int,input().split())))\n",
    "p = []\n",
    "for i in range(len(n1)):\n",
    "    p.append(min(n1[i]))\n",
    "print(max(p))"
   ]
  },
  {
   "cell_type": "code",
   "execution_count": 9,
   "id": "7debf1f2",
   "metadata": {},
   "outputs": [
    {
     "name": "stdout",
     "output_type": "stream",
     "text": [
      "2 4\n",
      "4 5 6 7\n",
      "1 2 3 4\n",
      "4\n"
     ]
    }
   ],
   "source": [
    "n,m = map(int,input().split())\n",
    "p = []\n",
    "for i in range(n):\n",
    "        n1 = list(map(int,input().split()))\n",
    "        p.append(min(n1))\n",
    "print(max(p))"
   ]
  },
  {
   "cell_type": "code",
   "execution_count": 13,
   "id": "efe7e0bb",
   "metadata": {},
   "outputs": [
    {
     "name": "stdout",
     "output_type": "stream",
     "text": [
      "25 3\n"
     ]
    }
   ],
   "source": [
    "#1이 될 때까지\n",
    "n,k = map(int,input().split())\n",
    "cnt = 0\n",
    "while(n!=1):\n",
    "    if n%k == 0:\n",
    "        n = n/k\n",
    "        cnt += 1\n",
    "    else:\n",
    "        n= n-1\n",
    "        cnt += 1"
   ]
  },
  {
   "cell_type": "code",
   "execution_count": 14,
   "id": "2647c5b4",
   "metadata": {},
   "outputs": [
    {
     "data": {
      "text/plain": [
       "6"
      ]
     },
     "execution_count": 14,
     "metadata": {},
     "output_type": "execute_result"
    }
   ],
   "source": [
    "cnt"
   ]
  },
  {
   "cell_type": "code",
   "execution_count": null,
   "id": "456d4793",
   "metadata": {},
   "outputs": [],
   "source": []
  }
 ],
 "metadata": {
  "kernelspec": {
   "display_name": "Python 3 (ipykernel)",
   "language": "python",
   "name": "python3"
  },
  "language_info": {
   "codemirror_mode": {
    "name": "ipython",
    "version": 3
   },
   "file_extension": ".py",
   "mimetype": "text/x-python",
   "name": "python",
   "nbconvert_exporter": "python",
   "pygments_lexer": "ipython3",
   "version": "3.8.8"
  }
 },
 "nbformat": 4,
 "nbformat_minor": 5
}
